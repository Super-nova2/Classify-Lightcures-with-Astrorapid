{
 "cells": [
  {
   "cell_type": "markdown",
   "metadata": {},
   "source": [
    "Ultilize the **astrorapid** package to classify light curves, Using the data from ZTF.\n",
    "\n",
    "**NOTE**: The place 'TBD' should be replaced with proper values according to the exact data being used."
   ]
  },
  {
   "cell_type": "code",
   "execution_count": null,
   "metadata": {},
   "outputs": [],
   "source": [
    "from astrorapid.classify import Classify\n",
    "import numpy as np\n",
    "from ztfquery import lightcurve\n",
    "import matplotlib.pyplot as plt"
   ]
  },
  {
   "cell_type": "code",
   "execution_count": null,
   "metadata": {},
   "outputs": [],
   "source": [
    "def mag2fluxdensity(mag, magerr, mode = 'muJy'):\n",
    "    #convert magnitude to flux density\n",
    "    if mode == 'muJy':\n",
    "        flux = 10**(-mag/2.5)*3631*1e6\n",
    "        fluxerr = flux*np.log(10)*magerr/2.5\n",
    "        return flux,fluxerr\n",
    "    elif mode == 'cgs':\n",
    "        #both are correct\n",
    "        #return 10**(-mag/2.5)*3631*1e-23\n",
    "        flux = 10**(-(mag+48.6)/2.5)\n",
    "        fluxerr = flux*np.log(10)*magerr/2.5\n",
    "        return flux, fluxerr\n",
    "def fluxdensity2mag(flux, fluxerr, mode = 'muJy'):\n",
    "    #convert flux density to magnitude\n",
    "    if mode == 'muJy':\n",
    "        mag = -2.5*np.log10(flux/3631/1e6)\n",
    "        magerr = 2.5*fluxerr/np.log(10)/flux\n",
    "        return mag, magerr\n",
    "    elif mode == 'cgs':\n",
    "        #both are correct\n",
    "        #return -2.5*np.log10(flux/3631*1e23)\n",
    "        mag = -2.5*np.log10(flux)-48.6\n",
    "        magerr = 2.5*fluxerr/np.log(10)/flux\n",
    "        return mag, magerr"
   ]
  },
  {
   "cell_type": "code",
   "execution_count": null,
   "metadata": {},
   "outputs": [],
   "source": [
    "coord = np.array([[125.5451334, 7.7287351, 0.173],\n",
    "[54.646051, 18.253337, -999]])  # example coordinates(ra, dec, and redshift)"
   ]
  },
  {
   "cell_type": "code",
   "execution_count": null,
   "metadata": {},
   "outputs": [],
   "source": [
    "ra, dec, redshift = coord[0,0], coord[0,1], coord[0,2]\n",
    "objid = \"transient0\"\n",
    "\n",
    "# Get light curve data from ZTF with ztfquery package\n",
    "lcq = lightcurve.LCQuery.from_position(ra,dec, 3)   # need to set irsa acount for the first time user\n",
    "data = lcq.data\n",
    "lcq.show()  # show the light curve"
   ]
  },
  {
   "cell_type": "code",
   "execution_count": null,
   "metadata": {},
   "outputs": [],
   "source": [
    "data.columns    # show column names"
   ]
  },
  {
   "cell_type": "code",
   "execution_count": null,
   "metadata": {},
   "outputs": [],
   "source": [
    "idx = np.where(data['mjd']> TBD)   # Select data just before the flare, TBD shoud be replaced by the actual mjd time\n",
    "data_idx = data.iloc[idx]\n",
    "print(data_idx.shape)\n",
    "data_g = data_idx.iloc[np.where(data_idx['filtercode']=='zg')]\n",
    "data_r = data_idx.iloc[np.where(data_idx['filtercode']=='zr')]\n",
    "mag_g = data_g['mag']\n",
    "mag_r = data_r['mag']\n",
    "t_g = data_g['mjd'].values\n",
    "t_r = data_r['mjd'].values\n",
    "magerr_g = data_g['magerr']\n",
    "magerr_r = data_r['magerr']\n",
    "band_g = data_g['filtercode'].values\n",
    "band_r = data_r['filtercode'].values\n",
    "\n",
    "flux_g, fluxerr_g = mag2fluxdensity(mag_g, magerr_g)\n",
    "flux_r, fluxerr_r = mag2fluxdensity(mag_r, magerr_r)\n",
    "\n",
    "mjd = np.concatenate((t_g, t_r))\n",
    "flux = np.concatenate((flux_g, flux_r))\n",
    "fluxerr = np.concatenate((fluxerr_g, fluxerr_r))\n",
    "passband = np.concatenate((band_g, band_r))\n",
    "passband = passband.astype(str)\n",
    "passband = np.where(passband == 'zg', 'g', passband)\n",
    "passband = np.where(passband == 'zr', 'r', passband)"
   ]
  },
  {
   "cell_type": "code",
   "execution_count": null,
   "metadata": {},
   "outputs": [],
   "source": [
    "# show the data used for classification\n",
    "plt.figure(figsize=(10,6))\n",
    "plt.errorbar(t_g,flux_g,yerr=fluxerr_g,fmt='o',label='g band')\n",
    "plt.errorbar(t_r,flux_r,yerr=fluxerr_r,fmt='o',label='r band')\n",
    "plt.xlabel('Time')\n",
    "plt.ylabel('Flux')\n",
    "plt.legend()\n",
    "plt.show()"
   ]
  },
  {
   "cell_type": "code",
   "execution_count": null,
   "metadata": {},
   "outputs": [],
   "source": [
    "# the data needed for classification is: mjd, flux, fluxerr, passband, photoflag, ra, dec, objid, redshift, mwebv\n",
    "print(\"mjd: \",mjd.shape,mjd)\n",
    "print(\"flux: \",flux.shape, flux)\n",
    "print(\"fluxerr: \",fluxerr.shape, fluxerr)\n",
    "print(\"passband: \",passband)\n",
    "photoflag = np.full(len(mjd),4096)  #4096 for good detection, 0 for bad detection, 6144 for trigger time\n",
    "photoflag[TBD] = 6144 # trigger time, set according to the up figure\n",
    "mwebv = 0.0 # Optional parameter, Milky Way E(B-V), set 0 for None\n",
    "print(\"photoflag: \",photoflag)"
   ]
  },
  {
   "cell_type": "code",
   "execution_count": null,
   "metadata": {},
   "outputs": [],
   "source": [
    "# according the known or unknown redshift, choose the model and classify the light curve.\n",
    "if redshift == -999:\n",
    "    redshift = None\n",
    "    known_redshift = False\n",
    "    model_name = 'ZTF_unknown_redshift'\n",
    "else:\n",
    "    known_redshift = True\n",
    "    model_name = 'ZTF_known_redshift'\n",
    "\n",
    "light_curve_list = [(mjd, flux, fluxerr, passband, photoflag, ra, dec, objid, redshift, mwebv)]\n",
    "\n",
    "classification = Classify(model_name=model_name, known_redshift=known_redshift)\n",
    "predictions, time_steps = classification.get_predictions(light_curve_list)\n",
    "print(predictions)\n",
    "\n",
    "save_path = r'./classification_results/'\n",
    "\n",
    "classification.plot_light_curves_and_classifications(figdir=save_path)\n",
    "classification.plot_classification_animation(figdir=save_path)"
   ]
  }
 ],
 "metadata": {
  "kernelspec": {
   "display_name": "astrorapid",
   "language": "python",
   "name": "python3"
  },
  "language_info": {
   "name": "python",
   "version": "3.8.5"
  }
 },
 "nbformat": 4,
 "nbformat_minor": 2
}
